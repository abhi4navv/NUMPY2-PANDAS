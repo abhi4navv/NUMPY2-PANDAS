{
 "cells": [
  {
   "cell_type": "code",
   "execution_count": 2,
   "metadata": {},
   "outputs": [],
   "source": [
    "import numpy as np"
   ]
  },
  {
   "cell_type": "code",
   "execution_count": null,
   "metadata": {},
   "outputs": [],
   "source": [
    "# Write a function to find moving average in an array over a window:\n",
    "# Test it over [3, 5, 7, 2, 8, 10, 11, 65, 72, 81, 99, 100, 150] and window of 3."
   ]
  },
  {
   "cell_type": "code",
   "execution_count": 14,
   "metadata": {},
   "outputs": [],
   "source": [
    "def cal_mov_avg(arr,win):\n",
    "    n=len(arr)\n",
    "    elmnum=n-win+1\n",
    "    stint=0\n",
    "    lstres=[]\n",
    "    avg=0.0\n",
    "    tot=0\n",
    "    for i in range(elmnum):\n",
    "        for j in range(stint,stint+win):\n",
    "            tot=tot+arr[j]\n",
    "        lstres.append(tot/win)\n",
    "        stint=stint+1\n",
    "        tot=0\n",
    "    print(lstres)\n",
    "    print(len(lstres))"
   ]
  },
  {
   "cell_type": "code",
   "execution_count": 15,
   "metadata": {},
   "outputs": [
    {
     "name": "stdout",
     "output_type": "stream",
     "text": [
      "[5.0, 4.666666666666667, 5.666666666666667, 6.666666666666667, 9.666666666666666, 28.666666666666668, 49.333333333333336, 72.66666666666667, 84.0, 93.33333333333333, 116.33333333333333]\n",
      "11\n"
     ]
    }
   ],
   "source": [
    "cal_mov_avg([3, 5, 7, 2, 8, 10, 11, 65, 72, 81, 99, 100, 150] ,3)"
   ]
  },
  {
   "cell_type": "code",
   "execution_count": 17,
   "metadata": {},
   "outputs": [
    {
     "name": "stdout",
     "output_type": "stream",
     "text": [
      "[25.0, 35.0, 45.0, 55.0, 65.0, 75.0, 85.0]\n",
      "7\n"
     ]
    }
   ],
   "source": [
    "cal_mov_avg([10,20,30,40,50,60,70, 80, 90, 100],4)"
   ]
  },
  {
   "cell_type": "code",
   "execution_count": 19,
   "metadata": {},
   "outputs": [],
   "source": []
  },
  {
   "cell_type": "code",
   "execution_count": 20,
   "metadata": {},
   "outputs": [],
   "source": [
    "# 1.\n",
    "# How-to-count-distance-to-the-previous-zero\n",
    "# For each value, count the difference back to the previous zero (or the start of the Series,\n",
    "# whichever is closer)\n",
    "# create a new column 'Y'\n",
    "# Consider a DataFrame df where there is an integer column 'X'"
   ]
  },
  {
   "cell_type": "code",
   "execution_count": 264,
   "metadata": {},
   "outputs": [],
   "source": [
    "import pandas as pd"
   ]
  },
  {
   "cell_type": "code",
   "execution_count": 123,
   "metadata": {},
   "outputs": [],
   "source": [
    "def cnt_dis_Zero(dt):\n",
    "    lstind=list()\n",
    "    df=pd.DataFrame({'X':dt})\n",
    "    cl=list()\n",
    "    mindis=0\n",
    "    for i,rows in df.iterrows():\n",
    "        if rows[0]==0:\n",
    "            lstind.append(i)\n",
    "    for i in range(len(df)):\n",
    "        if df.iloc[i][0]==0:\n",
    "            cl.append(0)\n",
    "        else:\n",
    "            for j in range(len(lstind)):\n",
    "                dif=abs(i-lstind[j])\n",
    "                if(j==0):\n",
    "                    mindis=dif\n",
    "                elif dif<mindis:\n",
    "                    mindis=dif\n",
    "            cl.append(mindis)\n",
    "           #mindis=0\n",
    "    df['Y']=cl\n",
    "    print(df)        "
   ]
  },
  {
   "cell_type": "code",
   "execution_count": 124,
   "metadata": {},
   "outputs": [
    {
     "name": "stdout",
     "output_type": "stream",
     "text": [
      "   X  Y\n",
      "0  7  2\n",
      "1  2  1\n",
      "2  0  0\n",
      "3  3  1\n",
      "4  4  2\n",
      "5  2  2\n",
      "6  5  1\n",
      "7  0  0\n",
      "8  3  1\n",
      "9  4  2\n"
     ]
    }
   ],
   "source": [
    "cnt_dis_Zero([7, 2, 0, 3, 4, 2, 5, 0, 3, 4])"
   ]
  },
  {
   "cell_type": "code",
   "execution_count": null,
   "metadata": {},
   "outputs": [],
   "source": [
    "# 2.\n",
    "# Create a DatetimeIndex that contains each business day of 2015 and use it to index a Series of\n",
    "# random numbers."
   ]
  },
  {
   "cell_type": "code",
   "execution_count": 265,
   "metadata": {},
   "outputs": [],
   "source": [
    "from datetime import date \n",
    "from datetime import datetime\n",
    "import datetime as dt\n",
    "from pandas.tseries.offsets import *\n",
    "stdate=dt.date(2015,1,1)\n",
    "endate=dt.date(2015,12,31)\n",
    "#np.busdaycalendar(stdate,enDate)\n",
    "\n",
    "df2=pd.bdate_range('2015-1-1','2015-12-31',freq=BDay())\n"
   ]
  },
  {
   "cell_type": "code",
   "execution_count": 266,
   "metadata": {},
   "outputs": [],
   "source": [
    "rndt=np.random.randint(0,len(df2),len(df2))"
   ]
  },
  {
   "cell_type": "code",
   "execution_count": 267,
   "metadata": {},
   "outputs": [],
   "source": [
    "df3=pd.DataFrame(data=rndt,index=df2)"
   ]
  },
  {
   "cell_type": "code",
   "execution_count": 268,
   "metadata": {},
   "outputs": [
    {
     "data": {
      "text/html": [
       "<div>\n",
       "<style scoped>\n",
       "    .dataframe tbody tr th:only-of-type {\n",
       "        vertical-align: middle;\n",
       "    }\n",
       "\n",
       "    .dataframe tbody tr th {\n",
       "        vertical-align: top;\n",
       "    }\n",
       "\n",
       "    .dataframe thead th {\n",
       "        text-align: right;\n",
       "    }\n",
       "</style>\n",
       "<table border=\"1\" class=\"dataframe\">\n",
       "  <thead>\n",
       "    <tr style=\"text-align: right;\">\n",
       "      <th></th>\n",
       "      <th>0</th>\n",
       "    </tr>\n",
       "  </thead>\n",
       "  <tbody>\n",
       "    <tr>\n",
       "      <th>2015-01-01</th>\n",
       "      <td>46</td>\n",
       "    </tr>\n",
       "    <tr>\n",
       "      <th>2015-01-02</th>\n",
       "      <td>76</td>\n",
       "    </tr>\n",
       "    <tr>\n",
       "      <th>2015-01-05</th>\n",
       "      <td>118</td>\n",
       "    </tr>\n",
       "    <tr>\n",
       "      <th>2015-01-06</th>\n",
       "      <td>168</td>\n",
       "    </tr>\n",
       "    <tr>\n",
       "      <th>2015-01-07</th>\n",
       "      <td>207</td>\n",
       "    </tr>\n",
       "  </tbody>\n",
       "</table>\n",
       "</div>"
      ],
      "text/plain": [
       "              0\n",
       "2015-01-01   46\n",
       "2015-01-02   76\n",
       "2015-01-05  118\n",
       "2015-01-06  168\n",
       "2015-01-07  207"
      ]
     },
     "execution_count": 268,
     "metadata": {},
     "output_type": "execute_result"
    }
   ],
   "source": [
    "df3.head()"
   ]
  },
  {
   "cell_type": "code",
   "execution_count": 269,
   "metadata": {},
   "outputs": [],
   "source": [
    "# 3.\n",
    "# Find the sum of the values in s for every Wednesday"
   ]
  },
  {
   "cell_type": "code",
   "execution_count": 270,
   "metadata": {},
   "outputs": [
    {
     "name": "stdout",
     "output_type": "stream",
     "text": [
      "6340\n"
     ]
    }
   ],
   "source": [
    "tot=0\n",
    "for i in range(len(df3)):\n",
    "    wkday=pd.to_datetime(df3.index.values[i]).weekday()\n",
    "    if wkday==3:\n",
    "        tot=tot+ df3.iloc[i][0]\n",
    "print(tot)"
   ]
  },
  {
   "cell_type": "code",
   "execution_count": null,
   "metadata": {},
   "outputs": [],
   "source": [
    "# 4.\n",
    "# Average For each calendar month"
   ]
  },
  {
   "cell_type": "code",
   "execution_count": 241,
   "metadata": {},
   "outputs": [
    {
     "name": "stdout",
     "output_type": "stream",
     "text": [
      "0    2838.833333\n",
      "dtype: float64\n"
     ]
    }
   ],
   "source": [
    "totmn=0\n",
    "for j in range(1,13):\n",
    "    for i in range(len(df3)):\n",
    "        mnth=pd.to_datetime(df3.index.values[i]).month\n",
    "        if mnth==j:\n",
    "            totmn=totmn+df3.iloc[i]\n",
    "avg=totmn/12\n",
    "print(avg)\n",
    "        "
   ]
  },
  {
   "cell_type": "code",
   "execution_count": 271,
   "metadata": {},
   "outputs": [],
   "source": [
    "# 5.\n",
    "# For each group of four consecutive calendar months in s, find the date on which the highest\n",
    "# value occurred."
   ]
  },
  {
   "cell_type": "code",
   "execution_count": 272,
   "metadata": {},
   "outputs": [
    {
     "name": "stdout",
     "output_type": "stream",
     "text": [
      "[259, 253, 250]\n"
     ]
    }
   ],
   "source": [
    "maxval=0\n",
    "cnt=pd.to_datetime(df3.index.values[0]).month\n",
    "lstmaxval=list()\n",
    "for j in range(3):\n",
    "    for k in range(4):\n",
    "        for i in range(len(df3)):\n",
    "            mnt=pd.to_datetime(df3.index.values[i]).month\n",
    "            if mnt==cnt:\n",
    "                #print(cnt,mnt)\n",
    "                vl=df3.iloc[i][0]\n",
    "                if df3.iloc[i][0]>maxval:\n",
    "                    maxval=df3.iloc[i][0]\n",
    "    \n",
    "        cnt=cnt+1\n",
    "    lstmaxval.append(maxval)\n",
    "    maxval=0\n",
    "        \n",
    "    \n",
    "print(lstmaxval)"
   ]
  },
  {
   "cell_type": "code",
   "execution_count": null,
   "metadata": {},
   "outputs": [],
   "source": []
  },
  {
   "cell_type": "code",
   "execution_count": null,
   "metadata": {},
   "outputs": [],
   "source": []
  }
 ],
 "metadata": {
  "kernelspec": {
   "display_name": "Python 3",
   "language": "python",
   "name": "python3"
  },
  "language_info": {
   "codemirror_mode": {
    "name": "ipython",
    "version": 3
   },
   "file_extension": ".py",
   "mimetype": "text/x-python",
   "name": "python",
   "nbconvert_exporter": "python",
   "pygments_lexer": "ipython3",
   "version": "3.7.0"
  }
 },
 "nbformat": 4,
 "nbformat_minor": 2
}
